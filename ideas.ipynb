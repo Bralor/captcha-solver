{
 "cells": [
  {
   "cell_type": "markdown",
   "metadata": {},
   "source": [
    "### Captcha solver\n",
    "\n",
    "<br>\n",
    "\n",
    "#### Řídící skript"
   ]
  },
  {
   "cell_type": "code",
   "execution_count": null,
   "metadata": {},
   "outputs": [],
   "source": [
    "import os\n",
    "\n",
    "import cv2\n",
    "import numpy\n",
    "import matplotlib.pyplot as plt\n",
    "\n",
    "\n",
    "def solver():\n",
    "    \"\"\"\n",
    "    Popis:\n",
    "    ------\n",
    "    1. Pomoci relativni cesty uloz jmena obrazku do setu (fce: 'filter_only_images'),\n",
    "    2. iteruj skrze set a otevirej jeden obrazek za druhym (fce: 'label_image'),\n",
    "    3. \n",
    "    \"\"\"\n",
    "    path = \"solver/data/samples\"\n",
    "    img_names = filter_only_images(path)\n",
    "    \n",
    "    for img in img_names:\n",
    "        clean_img = label_image(os.path.join(path, img))\n",
    "        x, y = split_picture(clean_img)\n",
    "        plt.imshow(x[56])\n",
    "        break"
   ]
  },
  {
   "cell_type": "markdown",
   "metadata": {},
   "source": [
    "<br>\n",
    "\n",
    "#### Funkce pro uložení obrázků do objektu"
   ]
  },
  {
   "cell_type": "code",
   "execution_count": null,
   "metadata": {},
   "outputs": [],
   "source": [
    "def filter_only_images(filename: str) -> set:\n",
    "    \"\"\"\n",
    "    Popis:\n",
    "    V zadanem adresari projdi soubory a do setu uloz jen ty,\n",
    "    ktere maji priponu '.png'.\n",
    "    \n",
    "    Parametr:\n",
    "    path: str = \"solver/data/samples/\"\n",
    "    \n",
    "    Vystup:\n",
    "    {\"1234.png\", \"5678.png\", \"9012.png\", ...}\n",
    "    \"\"\"\n",
    "    return {\n",
    "        img\n",
    "        for img in os.listdir(filename)\n",
    "        if os.path.splitext(img)[1] == \".png\"\n",
    "    }"
   ]
  },
  {
   "cell_type": "code",
   "execution_count": null,
   "metadata": {},
   "outputs": [],
   "source": [
    "# testing\n",
    "assert len(filter_only_images(\"solver/data/samples\")) != 0\n",
    "assert \"ep85x.png\" in filter_only_images(\"solver/data/samples\")\n",
    "assert \"foobar.png\" not in filter_only_images(\"solver/data/samples\")"
   ]
  },
  {
   "cell_type": "markdown",
   "metadata": {},
   "source": [
    "<br>\n",
    "\n",
    "#### Funkce pro odstranění rozmazaného textu a čar"
   ]
  },
  {
   "cell_type": "code",
   "execution_count": null,
   "metadata": {},
   "outputs": [],
   "source": [
    "def label_image(picture: str):\n",
    "    kernel = numpy.ones((3,1), numpy.uint8)  # matice\n",
    "    im = cv2.imread(str(picture), 0)         # obrazek nacteny jako grayscale (matice)\n",
    "    threshold = cv2.adaptiveThreshold(       # rozmazane obrazce prolozim zretelnymi hranami\n",
    "        im, 255,\n",
    "        cv2.ADAPTIVE_THRESH_GAUSSIAN_C,\n",
    "        cv2.THRESH_BINARY,\n",
    "        181, 5\n",
    "    )\n",
    "    erosion = cv2.dilate(threshold, kernel, iterations=1)  # dve iterace jsou podle me moc\n",
    "    plt.imshow(erosion)                                    # zbavim se tenkych car\n",
    "    return erosion\n",
    "#     cv2.waitKey(0)"
   ]
  },
  {
   "cell_type": "markdown",
   "metadata": {},
   "source": [
    "#### Funkce pro nachystání rámečku"
   ]
  },
  {
   "cell_type": "code",
   "execution_count": null,
   "metadata": {},
   "outputs": [],
   "source": [
    "def set_frame(src):\n",
    "    pass"
   ]
  },
  {
   "cell_type": "markdown",
   "metadata": {},
   "source": [
    "#### Funkce pro rozdělení obrázku na n dílů"
   ]
  },
  {
   "cell_type": "code",
   "execution_count": null,
   "metadata": {},
   "outputs": [],
   "source": [
    "def split_picture(img, n: int = 5):\n",
    "    \"\"\"\n",
    "    Rozdelime obrazek na n dilku\n",
    "    \"\"\"\n",
    "#     x = list()\n",
    "#     y = list()\n",
    "    \n",
    "    for num in range(n):\n",
    "        plt.imshow(img[:,(30 + 23*num):(30 + 23*(num + 1))])\n",
    "#         x.append(pad(erosion[:,(30+23*i):(30+23*(i+1))]))\n",
    "#         y.append(s[-9+i])\n",
    "#     return x, y"
   ]
  },
  {
   "cell_type": "code",
   "execution_count": null,
   "metadata": {},
   "outputs": [],
   "source": [
    "solver()"
   ]
  }
 ],
 "metadata": {
  "kernelspec": {
   "display_name": "env",
   "language": "python",
   "name": "env"
  },
  "language_info": {
   "codemirror_mode": {
    "name": "ipython",
    "version": 3
   },
   "file_extension": ".py",
   "mimetype": "text/x-python",
   "name": "python",
   "nbconvert_exporter": "python",
   "pygments_lexer": "ipython3",
   "version": "3.8.10"
  }
 },
 "nbformat": 4,
 "nbformat_minor": 4
}
